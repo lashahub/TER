{
 "cells": [
  {
   "cell_type": "code",
   "execution_count": 1,
   "id": "initial_id",
   "metadata": {
    "collapsed": true,
    "ExecuteTime": {
     "end_time": "2024-03-25T15:43:30.061446Z",
     "start_time": "2024-03-25T15:43:29.729083Z"
    }
   },
   "outputs": [
    {
     "name": "stdout",
     "output_type": "stream",
     "text": [
      "Size before discarding non existing:  2985\n",
      "Size after discarding non existing:  2984\n"
     ]
    }
   ],
   "source": [
    "import pandas as pd\n",
    "\n",
    "from data import *\n",
    "\n",
    "datasets_dir = \"Datasets\"\n",
    "main_dir = f\"{datasets_dir}/VocalImitationSet_v1.1.3\"\n",
    "\n",
    "classes = \"original_recordings_classes.txt\"\n",
    "df_classes = pd.read_csv(f\"{main_dir}/{classes}\", sep='\\t')\n",
    "\n",
    "reference_original_recordings_dir = f\"{main_dir}/original_recordings/reference\"\n",
    "non_reference_original_recordings_dir = f\"{main_dir}/original_recordings/non_reference\"\n",
    "\n",
    "originals = OriginalRecs(df_classes)\n",
    "\n",
    "originals.discard_non_existing(reference_original_recordings_dir, non_reference_original_recordings_dir)"
   ]
  },
  {
   "cell_type": "code",
   "outputs": [],
   "source": [],
   "metadata": {
    "collapsed": false
   },
   "id": "e82b6fb3dca1b7fd"
  }
 ],
 "metadata": {
  "kernelspec": {
   "display_name": "Python 3",
   "language": "python",
   "name": "python3"
  },
  "language_info": {
   "codemirror_mode": {
    "name": "ipython",
    "version": 2
   },
   "file_extension": ".py",
   "mimetype": "text/x-python",
   "name": "python",
   "nbconvert_exporter": "python",
   "pygments_lexer": "ipython2",
   "version": "2.7.6"
  }
 },
 "nbformat": 4,
 "nbformat_minor": 5
}
