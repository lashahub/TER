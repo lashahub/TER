{
 "cells": [
  {
   "cell_type": "code",
   "outputs": [],
   "source": [
    "import os\n",
    "\n",
    "import pandas as pd\n",
    "\n",
    "from data import *"
   ],
   "metadata": {
    "collapsed": false
   },
   "id": "5efff4175c134e3a",
   "execution_count": null
  },
  {
   "cell_type": "markdown",
   "source": [
    "# Loading and displaying VocalImitationSet"
   ],
   "metadata": {
    "collapsed": false
   },
   "id": "2a52d3943b21b7a2"
  },
  {
   "cell_type": "code",
   "execution_count": null,
   "id": "73d51752f0407044",
   "metadata": {
    "collapsed": false
   },
   "outputs": [],
   "source": [
    "datasets_dir = \"Datasets\"\n",
    "main_dir = f\"{datasets_dir}/VocalImitationSet_v1.1.3\"\n",
    "\n",
    "classes = \"original_recordings_classes.txt\"\n",
    "df_classes = pd.read_csv(f\"{main_dir}/{classes}\", sep='\\t')\n",
    "\n",
    "imitations = \"vocal_imitations.txt\"\n",
    "df_imitations = pd.read_csv(f\"{main_dir}/{imitations}\", sep='\\t')\n",
    "\n",
    "assessment = \"vocal_imitations_assessment.txt\"\n",
    "df_assessment = pd.read_csv(f\"{main_dir}/{assessment}\", sep='\\t')\n",
    "\n",
    "survey = \"participant_survey.csv\"\n",
    "df_survey = pd.read_csv(f\"{main_dir}/{survey}\")"
   ]
  },
  {
   "cell_type": "code",
   "outputs": [],
   "source": [
    "df_imitations"
   ],
   "metadata": {
    "collapsed": true
   },
   "id": "initial_id",
   "execution_count": null
  },
  {
   "cell_type": "code",
   "outputs": [],
   "source": [
    "reference_original_recordings_dir = f\"{main_dir}/original_recordings/reference\"\n",
    "\n",
    "# Verify that all recording in df_classes that have column 'is_reference' set to True are in the reference folder\n",
    "for index, row in df_classes.iterrows():\n",
    "    if row['is_reference']:\n",
    "        if not os.path.exists(f\"{reference_original_recordings_dir}/{row['filename']}\"):\n",
    "            print(f\"File {row['filename']} not found in reference folder\")\n",
    "\n",
    "# now filter and create a new df with only the reference recordings\n",
    "df_reference = df_classes[df_classes['is_reference'] == True]\n",
    "\n",
    "df_reference"
   ],
   "metadata": {
    "collapsed": false
   },
   "id": "d7c98a19fc52217b",
   "execution_count": null
  },
  {
   "cell_type": "code",
   "outputs": [],
   "source": [
    "included_vocal_imitations_dir = f\"{main_dir}/vocal_imitations/included\"\n",
    "\n",
    "# Verify that all recording in df_imitations that have column 'included' set to True are in the included folder\n",
    "for index, row in df_imitations.iterrows():\n",
    "    if row['included']:\n",
    "        if not os.path.exists(f\"{included_vocal_imitations_dir}/{row['imitation_filename']}\"):\n",
    "            print(f\"File {row['imitation_filename']} not found in included folder\")\n",
    "\n",
    "# now filter and create a new df with only the included vocal imitations\n",
    "df_included_imitations = df_imitations[df_imitations['included'] == True]\n",
    "\n",
    "df_included_imitations"
   ],
   "metadata": {
    "collapsed": false
   },
   "id": "39b1fe6c760963b0",
   "execution_count": null
  },
  {
   "cell_type": "code",
   "outputs": [],
   "source": [
    "# loop over df_included_imitations\n",
    "for index, row in df_included_imitations.iterrows():\n",
    "    imitation = Imitation(row)"
   ],
   "metadata": {
    "collapsed": false
   },
   "id": "cdd70116f9b42367",
   "execution_count": null
  },
  {
   "cell_type": "code",
   "outputs": [],
   "source": [
    "# create a set of all participant IDs\n",
    "participant_ids = set(df_survey['participant_id'])\n",
    "len(set(participant_ids)) == len(list(participant_ids))\n",
    "print(len(set(participant_ids)))\n",
    "# create a set of all participant IDs from imitations\n",
    "imitation_participant_ids = list(df_included_imitations['participant_id'])\n",
    "imitation_participant_ids = [str(x)[:5] for x in imitation_participant_ids]\n",
    "print(len(set(imitation_participant_ids)))\n",
    "print(len(list(imitation_participant_ids)))"
   ],
   "metadata": {
    "collapsed": false
   },
   "id": "429103e17f7eea3f",
   "execution_count": null
  },
  {
   "cell_type": "code",
   "outputs": [],
   "source": [],
   "metadata": {
    "collapsed": false
   },
   "id": "6e10e0d06dc0dd28"
  }
 ],
 "metadata": {
  "kernelspec": {
   "display_name": "Python 3",
   "language": "python",
   "name": "python3"
  },
  "language_info": {
   "codemirror_mode": {
    "name": "ipython",
    "version": 2
   },
   "file_extension": ".py",
   "mimetype": "text/x-python",
   "name": "python",
   "nbconvert_exporter": "python",
   "pygments_lexer": "ipython2",
   "version": "2.7.6"
  }
 },
 "nbformat": 4,
 "nbformat_minor": 5
}
